{
 "cells": [
  {
   "cell_type": "code",
   "execution_count": 1,
   "metadata": {},
   "outputs": [
    {
     "name": "stdout",
     "output_type": "stream",
     "text": [
      "path: /home/ksasaki11b819/additional/.log/20170726/20170726-123739-0500.log\n",
      "start time: 2017-07-26 12:37:39(UTC)\n",
      "end time: 2017-07-26 12:37:39(UTC)\n",
      "output size: 1811 bytes\n",
      "0 chunks with matched keywords or errors\n",
      "----\n",
      "UID        PID  PPID  C STIME TTY          TIME CMD\n",
      "root         1     0  0 Jul20 ?        00:00:14 tini -- sh /usr/local/bin/start-\n",
      "root         5     1  0 Jul20 ?        00:00:00 sh /usr/local/bin/start-systemus\n",
      "root        14     5  0 Jul20 ?        00:00:00 sudo -E PATH=/opt/conda/bin:/opt\n",
      "ksasaki+    15    14  0 Jul20 ?        00:05:33 /opt/conda/bin/python /opt/conda\n",
      "ksasaki+    51    15  0 Jul20 pts/1    00:00:00 /bin/bash\n",
      "ksasaki+  2081    15  0 Jul21 ?        00:03:23 /opt/conda/bin/python -m lc_wrap\n",
      "ksasaki+  2092  2081  0 Jul21 ?        00:01:17 /opt/conda/bin/python -m bash_ke\n",
      "ksasaki+  2104  2092  0 Jul21 pts/2    00:00:00 /bin/bash --rcfile /opt/conda/li\n",
      "ksasaki+  2108    15  0 Jul21 ?        00:03:24 /opt/conda/bin/python -m lc_wrap\n",
      "ksasaki+  2119  2108  0 Jul21 ?        00:01:16 /opt/conda/bin/python -m bash_ke\n",
      "ksasaki+  2131  2119  0 Jul21 pts/3    00:00:00 /bin/bash --rcfile /opt/conda/li\n",
      "ksasaki+  4110    15  0 Jul22 pts/5    00:00:00 /bin/bash\n",
      "ksasaki+  6143    15  0 10:47 ?        00:00:01 /opt/conda/bin/python -m bash_ke\n",
      "ksasaki+  6154  6143  0 10:47 pts/0    00:00:00 /bin/bash --rcfile /opt/conda/li\n",
      "ksasaki+  8150     0  0 12:37 ?        00:00:00 bash\n",
      "ksasaki+  8239  8150 36 12:37 ?        00:00:01 /opt/conda/bin/python /opt/conda\n",
      "ksasaki+  8244  8239 43 12:37 ?        00:00:01 /opt/conda/bin/python -m lc_wrap\n",
      "ksasaki+  8258  8244 58 12:37 ?        00:00:01 /opt/conda/bin/python -m bash_ke\n",
      "ksasaki+  8270  8258  4 12:37 pts/4    00:00:00 /bin/bash --rcfile /opt/conda/li\n",
      "ksasaki+  8275  8270  0 12:37 pts/4    00:00:00 ps -ef"
     ]
    }
   ],
   "source": [
    "ps -ef"
   ]
  }
 ],
 "metadata": {
  "kernelspec": {
   "display_name": "lc_wrapper_bash",
   "language": "bash",
   "name": "lc_wrapper_bash"
  },
  "language_info": {
   "file_extension": ".py",
   "mimetype": "text/x-python",
   "name": "python",
   "nbconvert_exporter": "python",
   "pygments_lexer": "ipython3",
   "version": "3.5.2"
  },
  "toc": {
   "colors": {
    "hover_highlight": "#DAA520",
    "navigate_num": "#000000",
    "navigate_text": "#333333",
    "running_highlight": "#FF0000",
    "selected_highlight": "#FFD700",
    "sidebar_border": "#EEEEEE",
    "wrapper_background": "#FFFFFF"
   },
   "moveMenuLeft": true,
   "nav_menu": {
    "height": "12px",
    "width": "252px"
   },
   "navigate_menu": true,
   "number_sections": true,
   "sideBar": true,
   "threshold": 4,
   "toc_cell": false,
   "toc_section_display": "block",
   "toc_window_display": false,
   "widenNotebook": false
  }
 },
 "nbformat": 4,
 "nbformat_minor": 2
}
