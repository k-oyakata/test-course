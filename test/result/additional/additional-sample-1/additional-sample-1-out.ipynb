{
 "cells": [
  {
   "cell_type": "code",
   "execution_count": 1,
   "metadata": {},
   "outputs": [
    {
     "name": "stdout",
     "output_type": "stream",
     "text": [
      "path: /home/ksasaki11b819/additional/.log/20170721/20170721-122751-0432.log\n",
      "start time: 2017-07-21 12:27:51(UTC)\n",
      "end time: 2017-07-21 12:27:51(UTC)\n",
      "output size: 1996 bytes\n",
      "0 chunks with matched keywords or errors\n",
      "----\n",
      "UID        PID  PPID  C STIME TTY          TIME CMD\n",
      "root         1     0  0 Jul20 ?        00:00:01 tini -- sh /usr/local/bin/start-\n",
      "root         5     1  0 Jul20 ?        00:00:00 sh /usr/local/bin/start-systemus\n",
      "root        14     5  0 Jul20 ?        00:00:00 sudo -E PATH=/opt/conda/bin:/opt\n",
      "ksasaki+    15    14  0 Jul20 ?        00:00:58 /opt/conda/bin/python /opt/conda\n",
      "ksasaki+    51    15  0 Jul20 pts/1    00:00:00 /bin/bash\n",
      "ksasaki+   111    15  0 06:56 ?        00:00:16 /opt/conda/bin/python -m lc_wrap\n",
      "ksasaki+   122   111  0 06:56 ?        00:00:06 /opt/conda/bin/python -m bash_ke\n",
      "ksasaki+   134   122  0 06:56 pts/0    00:00:00 /bin/bash --rcfile /opt/conda/li\n",
      "ksasaki+  2081    15  0 09:51 ?        00:00:05 /opt/conda/bin/python -m lc_wrap\n",
      "ksasaki+  2092  2081  0 09:51 ?        00:00:02 /opt/conda/bin/python -m bash_ke\n",
      "ksasaki+  2104  2092  0 09:51 pts/2    00:00:00 /bin/bash --rcfile /opt/conda/li\n",
      "ksasaki+  2108    15  0 09:52 ?        00:00:05 /opt/conda/bin/python -m lc_wrap\n",
      "ksasaki+  2119  2108  0 09:52 ?        00:00:02 /opt/conda/bin/python -m bash_ke\n",
      "ksasaki+  2131  2119  0 09:52 pts/3    00:00:00 /bin/bash --rcfile /opt/conda/li\n",
      "ksasaki+  3724    15  0 11:59 ?        00:00:01 /opt/conda/bin/python -m bash_ke\n",
      "ksasaki+  3735  3724  0 11:59 pts/4    00:00:00 /bin/bash --rcfile /opt/conda/li\n",
      "ksasaki+  3970     0  0 12:27 ?        00:00:00 bash\n",
      "ksasaki+  4058  3970 36 12:27 ?        00:00:01 /opt/conda/bin/python /opt/conda\n",
      "ksasaki+  4063  4058 43 12:27 ?        00:00:01 /opt/conda/bin/python -m lc_wrap\n",
      "ksasaki+  4077  4063 57 12:27 ?        00:00:01 /opt/conda/bin/python -m bash_ke\n",
      "ksasaki+  4089  4077  7 12:27 pts/5    00:00:00 /bin/bash --rcfile /opt/conda/li\n",
      "ksasaki+  4094  4089  0 12:27 pts/5    00:00:00 ps -ef"
     ]
    }
   ],
   "source": [
    "ps -ef"
   ]
  }
 ],
 "metadata": {
  "kernelspec": {
   "display_name": "lc_wrapper_bash",
   "language": "bash",
   "name": "lc_wrapper_bash"
  },
  "language_info": {
   "file_extension": ".py",
   "mimetype": "text/x-python",
   "name": "python",
   "nbconvert_exporter": "python",
   "pygments_lexer": "ipython3",
   "version": "3.5.2"
  },
  "toc": {
   "colors": {
    "hover_highlight": "#DAA520",
    "navigate_num": "#000000",
    "navigate_text": "#333333",
    "running_highlight": "#FF0000",
    "selected_highlight": "#FFD700",
    "sidebar_border": "#EEEEEE",
    "wrapper_background": "#FFFFFF"
   },
   "moveMenuLeft": true,
   "nav_menu": {
    "height": "12px",
    "width": "252px"
   },
   "navigate_menu": true,
   "number_sections": true,
   "sideBar": true,
   "threshold": 4,
   "toc_cell": false,
   "toc_section_display": "block",
   "toc_window_display": false,
   "widenNotebook": false
  }
 },
 "nbformat": 4,
 "nbformat_minor": 2
}
