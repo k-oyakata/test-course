{
 "cells": [
  {
   "cell_type": "code",
   "execution_count": 1,
   "metadata": {
    "collapsed": true
   },
   "outputs": [
    {
     "name": "stdout",
     "output_type": "stream",
     "text": [
      "path: /home/ksasaki11b819/textbook/.log/20170726/20170726-151912-0310.log\n",
      "start time: 2017-07-26 15:19:12(UTC)\n",
      "end time: 2017-07-26 15:19:12(UTC)\n",
      "output size: 264 bytes\n",
      "0 chunks with matched keywords or errors\n",
      "----\n",
      "Wed Jul 26 15:19:12 UTC 2017"
     ]
    }
   ],
   "source": [
    "date"
   ]
  },
  {
   "cell_type": "code",
   "execution_count": 2,
   "metadata": {
    "collapsed": true
   },
   "outputs": [
    {
     "name": "stdout",
     "output_type": "stream",
     "text": [
      "path: /home/ksasaki11b819/textbook/.log/20170726/20170726-151912-0565.log\n",
      "start time: 2017-07-26 15:19:12(UTC)\n",
      "end time: 2017-07-26 15:19:12(UTC)\n",
      "output size: 561 bytes\n",
      "0 chunks with matched keywords or errors\n",
      "----\n",
      "total 16\n",
      "-rw-r--r-- 1 ksasaki11b819 ksasaki11b819 1270 Jul 26 15:18 01_notebook.ipynb\n",
      "-rw-r--r-- 1 ksasaki11b819 ksasaki11b819 2330 Jul 26 15:19 01_notebook-out.ipynb\n",
      "-rw-r--r-- 1 ksasaki11b819 ksasaki11b819 1270 Jul 26 15:18 02_notebook.ipynb\n",
      "-rw-r--r-- 1 ksasaki11b819 ksasaki11b819 1270 Jul 26 15:19 02_notebook-out.ipynb"
     ]
    }
   ],
   "source": [
    "ls -l"
   ]
  }
 ],
 "metadata": {
  "kernelspec": {
   "display_name": "lc_wrapper_bash",
   "language": "bash",
   "name": "lc_wrapper_bash"
  },
  "language_info": {
   "file_extension": ".py",
   "mimetype": "text/x-python",
   "name": "python",
   "nbconvert_exporter": "python",
   "pygments_lexer": "ipython3",
   "version": "3.5.2"
  },
  "toc": {
   "colors": {
    "hover_highlight": "#DAA520",
    "navigate_num": "#000000",
    "navigate_text": "#333333",
    "running_highlight": "#FF0000",
    "selected_highlight": "#FFD700",
    "sidebar_border": "#EEEEEE",
    "wrapper_background": "#FFFFFF"
   },
   "moveMenuLeft": true,
   "nav_menu": {
    "height": "12px",
    "width": "252px"
   },
   "navigate_menu": true,
   "number_sections": true,
   "sideBar": true,
   "threshold": 4,
   "toc_cell": false,
   "toc_section_display": "block",
   "toc_window_display": false,
   "widenNotebook": false
  }
 },
 "nbformat": 4,
 "nbformat_minor": 2
}
