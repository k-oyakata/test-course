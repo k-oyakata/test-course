{
 "cells": [
  {
   "cell_type": "markdown",
   "metadata": {
    "lc_cell_meme": {}
   },
   "source": [
    "# notebookのテスト順序の設定"
   ]
  },
  {
   "cell_type": "markdown",
   "metadata": {
    "lc_cell_meme": {}
   },
   "source": [
    "notebookは、自動的にテストできます。<br>\n",
    "notebookテストを自動実行するには、テスト対象のnotebook、および、notebookの実行順序の指定が必要になります。<br>\n",
    "デフォルトではtextbookフォルダ内のnotebookを辞書順に実行します。"
   ]
  },
  {
   "cell_type": "markdown",
   "metadata": {
    "lc_cell_meme": {}
   },
   "source": [
    "## テスト対象のnotebookの指定\n",
    "デフォルトではtextbookフォルダ内のnotebookをテスト対象としています。<br>\n",
    "他のフォルダ、notebookをテスト対象とする場合は、TEST_ITMESに追加して下さい。"
   ]
  },
  {
   "cell_type": "code",
   "execution_count": null,
   "metadata": {
    "collapsed": true,
    "lc_cell_meme": {}
   },
   "outputs": [],
   "source": [
    "TEST_ITEMS=\"$(cd ~/; ls textbook/*.ipynb)\"\n",
    "TEST_ITEMS=\"$TEST_ITEMS \"\"$(cd ~/; ls additional/*.ipynb)\""
   ]
  },
  {
   "cell_type": "markdown",
   "metadata": {
    "lc_cell_meme": {}
   },
   "source": [
    "## notebookリストの生成\n",
    "テストスクリプトは、このtest_itemsの定義順にnotebookを実行します。<br>\n",
    "$TEST_ITEMSで実行順序の設定が難しい場合は、test_itemに直接notebookのパス名（ホームからの相対パス)を記述してください。"
   ]
  },
  {
   "cell_type": "code",
   "execution_count": null,
   "metadata": {
    "collapsed": true,
    "lc_cell_meme": {}
   },
   "outputs": [],
   "source": [
    "cat << EOF > ~/test_nb_list.conf\n",
    "test_items=(\n",
    "$TEST_ITEMS\n",
    ")\n",
    "EOF"
   ]
  }
 ],
 "metadata": {
  "kernelspec": {
   "display_name": "Bash",
   "language": "bash",
   "name": "bash"
  },
  "language_info": {
   "codemirror_mode": "shell",
   "file_extension": ".sh",
   "mimetype": "text/x-sh",
   "name": "bash"
  },
  "lc_notebook_meme": {},
  "toc": {
   "colors": {
    "hover_highlight": "#DAA520",
    "navigate_num": "#000000",
    "navigate_text": "#333333",
    "running_highlight": "#FF0000",
    "selected_highlight": "#FFD700",
    "sidebar_border": "#EEEEEE",
    "wrapper_background": "#FFFFFF"
   },
   "moveMenuLeft": true,
   "nav_menu": {
    "height": "12px",
    "width": "252px"
   },
   "navigate_menu": true,
   "number_sections": true,
   "sideBar": true,
   "threshold": 4,
   "toc_cell": false,
   "toc_section_display": "block",
   "toc_window_display": false,
   "widenNotebook": false
  }
 },
 "nbformat": 4,
 "nbformat_minor": 2
}
